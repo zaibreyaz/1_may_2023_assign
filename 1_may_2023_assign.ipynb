{
 "cells": [
  {
   "cell_type": "code",
   "execution_count": null,
   "id": "e0d82f63-1a22-43e5-a878-a7cb206d9f72",
   "metadata": {},
   "outputs": [],
   "source": [
    "\"\"\"Q1. What is a contingency matrix, and how is it used to evaluate the performance of a classification model?\n",
    "\n",
    "    Ans: A contingency matrix is a table that compares the predicted labels of a classification model with the true labels. \n",
    "         It is used to evaluate the performance by calculating various metrics like accuracy, precision, recall, and F1-score based \n",
    "         on the entries in the matrix.\n",
    "\"\"\""
   ]
  },
  {
   "cell_type": "code",
   "execution_count": null,
   "id": "941678a9-2b00-4992-b6c9-93e223f816c0",
   "metadata": {},
   "outputs": [],
   "source": [
    "\"\"\"Q2. How is a pair confusion matrix different from a regular confusion matrix, and why might it be useful in certain situations?\n",
    "\n",
    "    Ans: A pair confusion matrix is a variation of the regular confusion matrix that focuses on pairwise classification \n",
    "         decisions rather than individual classes. It is useful in situations where the pairwise relationships between \n",
    "         classes are more important than individual class performance, such as in multi-label classification or ranking tasks.\n",
    "\"\"\""
   ]
  },
  {
   "cell_type": "code",
   "execution_count": null,
   "id": "2c443129-84a6-4c4f-8d7a-8b541f1e5129",
   "metadata": {},
   "outputs": [],
   "source": [
    "\"\"\"Q3. What is an extrinsic measure in the context of natural language processing, and \n",
    "    how is it typically used to evaluate the performance of language models?\n",
    "\n",
    "    Ans: In the context of natural language processing, an extrinsic measure is an evaluation metric that assesses the performance \n",
    "         of a language model based on its performance on a downstream task, such as text classification or machine translation. \n",
    "         It measures how well the model's output contributes to the overall task performance.\n",
    "\"\"\""
   ]
  },
  {
   "cell_type": "code",
   "execution_count": null,
   "id": "9d4946a5-20b6-44d6-a56f-5ead85b453bd",
   "metadata": {},
   "outputs": [],
   "source": [
    "\"\"\"Q4. What is an intrinsic measure in the context of machine learning, and how does it differ from an extrinsic measure?\n",
    "\n",
    "    Ans: An intrinsic measure is an evaluation metric that directly assesses the performance of a model based on its internal \n",
    "         characteristics or behavior, independent of any specific downstream task. It differs from an extrinsic measure, which \n",
    "         evaluates the model's performance on a specific task or application.\n",
    "\"\"\""
   ]
  },
  {
   "cell_type": "code",
   "execution_count": null,
   "id": "2462d24c-eedb-4df1-9bd3-045c148354f2",
   "metadata": {},
   "outputs": [],
   "source": [
    "\"\"\"Q5. What is the purpose of a confusion matrix in machine learning, and how can it be used to \n",
    "    identify strengths and weaknesses of a model?\n",
    "\n",
    "    Ans: The purpose of a confusion matrix in machine learning is to provide a summary of the model's predictions compared \n",
    "         to the actual labels. It helps identify strengths and weaknesses by analyzing the distribution of true positives, \n",
    "         false positives, true negatives, and false negatives, highlighting areas where the model performs well or struggles.\n",
    "\"\"\""
   ]
  },
  {
   "cell_type": "code",
   "execution_count": null,
   "id": "ab7889ff-1076-4528-b655-d69ecc8b6ee4",
   "metadata": {},
   "outputs": [],
   "source": [
    "\"\"\"Q6. What are some common intrinsic measures used to evaluate the performance of unsupervised learning algorithms, \n",
    "    and how can they be interpreted?\n",
    "\n",
    "    Ans: Some common intrinsic measures used to evaluate unsupervised learning algorithms include clustering metrics \n",
    "         like the Silhouette Coefficient and the Davies-Bouldin Index. These measures provide insights into the compactness \n",
    "         and separation of clusters, allowing for interpretation of the algorithm's performance in grouping similar data points \n",
    "         and separating different groups.\n",
    "\"\"\""
   ]
  },
  {
   "cell_type": "code",
   "execution_count": null,
   "id": "fd95db95-28bc-4ac4-b887-dca05cc3a9bb",
   "metadata": {},
   "outputs": [],
   "source": [
    "\"\"\"Q7. What are some limitations of using accuracy as a sole evaluation metric for classification tasks, \n",
    "    and how can these limitations be addressed?\n",
    "    \n",
    "    Ans: Limitations of using accuracy as a sole evaluation metric for classification tasks include imbalanced datasets and \n",
    "         class distribution. These limitations can be addressed by considering additional metrics such as precision, recall, \n",
    "         F1-score, or using techniques like stratified sampling, resampling, or using alternative evaluation metrics like \n",
    "         area under the ROC curve.\n",
    "\"\"\""
   ]
  }
 ],
 "metadata": {
  "kernelspec": {
   "display_name": "Python 3 (ipykernel)",
   "language": "python",
   "name": "python3"
  },
  "language_info": {
   "codemirror_mode": {
    "name": "ipython",
    "version": 3
   },
   "file_extension": ".py",
   "mimetype": "text/x-python",
   "name": "python",
   "nbconvert_exporter": "python",
   "pygments_lexer": "ipython3",
   "version": "3.10.8"
  }
 },
 "nbformat": 4,
 "nbformat_minor": 5
}
